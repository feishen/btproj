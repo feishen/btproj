{
 "cells": [
  {
   "cell_type": "code",
   "execution_count": 1,
   "metadata": {},
   "outputs": [],
   "source": [
    "import json"
   ]
  },
  {
   "cell_type": "code",
   "execution_count": 2,
   "metadata": {},
   "outputs": [],
   "source": [
    "import backtrader as bt"
   ]
  },
  {
   "cell_type": "code",
   "execution_count": 3,
   "metadata": {},
   "outputs": [],
   "source": [
    "from stocks import Stock\n",
    "from loader import load_stock_data\n",
    "from strategies.strategynorth import StrategyNorth"
   ]
  },
  {
   "cell_type": "markdown",
   "metadata": {},
   "source": [
    "start, end = '2014-06-18', None       #从开始到现在<br>\n",
    "start, end = '2015-05-01', None       #2015股灾到现在<br>\n",
    "start, end = '2015-05-01', '2019-01-01'       #2015股灾到2019爆发前夕<br>\n",
    "start, end = '2014-06-18', '2019-01-01'       #从开始到2019爆发前夕<br>\n",
    "start, end = '2019-01-01', '2020-12-31'       #此轮牛市<br>\n",
    "start, end = '2020-07-01', '2021-03-31'<br>\n",
    "start, end = '2018-01-01', None"
   ]
  },
  {
   "cell_type": "code",
   "execution_count": 4,
   "metadata": {},
   "outputs": [],
   "source": [
    "durations = [\n",
    "    # ('2014-06-18', None),\n",
    "    # ('2015-05-01', None),\n",
    "    # ('2014-06-18', '2019-01-01'),\n",
    "    # ('2014-06-18', '2019-01-01'),\n",
    "    # ('2019-01-01', '2020-12-31'),\n",
    "    # ('2015-12-01', None),\n",
    "    # ('2018-01-22', '2020-06-30'),\n",
    "    # ('2016-07-22', '2020-07-07')\n",
    "    (None, None)\n",
    "]"
   ]
  },
  {
   "cell_type": "code",
   "execution_count": null,
   "metadata": {},
   "outputs": [
    {
     "name": "stdout",
     "output_type": "stream",
     "text": [
      "Optimizing None, None\n",
      "2021-08-23, {\"period\": 0, \"highpercent\": 0.6, \"lowpercent\": 0.1, \"printlog\": false} Ending Value 1762433.755\n",
      "2021-08-23, {\"period\": 0, \"highpercent\": 0.6, \"lowpercent\": 0.2, \"printlog\": false} Ending Value 1733216.881\n",
      "2021-08-23, {\"period\": 0, \"highpercent\": 0.6, \"lowpercent\": 0.3, \"printlog\": false} Ending Value 1876591.823\n",
      "2021-08-23, {\"period\": 0, \"highpercent\": 0.6, \"lowpercent\": 0.4, \"printlog\": false} Ending Value 2520940.725\n",
      "2021-08-23, {\"period\": 0, \"highpercent\": 0.7, \"lowpercent\": 0.1, \"printlog\": false} Ending Value 2676566.132\n",
      "2021-08-23, {\"period\": 0, \"highpercent\": 0.7, \"lowpercent\": 0.2, \"printlog\": false} Ending Value 2564321.565\n",
      "2021-08-23, {\"period\": 0, \"highpercent\": 0.7, \"lowpercent\": 0.3, \"printlog\": false} Ending Value 2667180.657\n",
      "2021-08-23, {\"period\": 0, \"highpercent\": 0.7, \"lowpercent\": 0.4, \"printlog\": false} Ending Value 2943745.832\n",
      "2021-08-23, {\"period\": 0, \"highpercent\": 0.8, \"lowpercent\": 0.1, \"printlog\": false} Ending Value 2125295.214\n",
      "2021-08-23, {\"period\": 0, \"highpercent\": 0.8, \"lowpercent\": 0.2, \"printlog\": false} Ending Value 2099478.575\n",
      "2021-08-23, {\"period\": 0, \"highpercent\": 0.8, \"lowpercent\": 0.3, \"printlog\": false} Ending Value 2191751.075\n",
      "2021-08-23, {\"period\": 0, \"highpercent\": 0.8, \"lowpercent\": 0.4, \"printlog\": false} Ending Value 2540091.637\n",
      "2021-08-23, {\"period\": 0, \"highpercent\": 0.9, \"lowpercent\": 0.1, \"printlog\": false} Ending Value 2686744.790\n",
      "2021-08-23, {\"period\": 0, \"highpercent\": 0.9, \"lowpercent\": 0.2, \"printlog\": false} Ending Value 2723940.265\n",
      "2021-08-23, {\"period\": 0, \"highpercent\": 0.9, \"lowpercent\": 0.3, \"printlog\": false} Ending Value 2947963.100\n",
      "2021-08-23, {\"period\": 0, \"highpercent\": 0.9, \"lowpercent\": 0.4, \"printlog\": false} Ending Value 3085132.644\n",
      "2021-08-23, {\"period\": 20, \"highpercent\": 0.6, \"lowpercent\": 0.1, \"printlog\": false} Ending Value 1777340.315\n",
      "2021-08-23, {\"period\": 20, \"highpercent\": 0.6, \"lowpercent\": 0.2, \"printlog\": false} Ending Value 1996261.101\n",
      "2021-08-23, {\"period\": 20, \"highpercent\": 0.6, \"lowpercent\": 0.3, \"printlog\": false} Ending Value 2149024.857\n",
      "2021-08-23, {\"period\": 20, \"highpercent\": 0.6, \"lowpercent\": 0.4, \"printlog\": false} Ending Value 2220206.269\n",
      "2021-08-23, {\"period\": 20, \"highpercent\": 0.7, \"lowpercent\": 0.1, \"printlog\": false} Ending Value 1803347.331\n",
      "2021-08-23, {\"period\": 20, \"highpercent\": 0.7, \"lowpercent\": 0.2, \"printlog\": false} Ending Value 1943131.301\n",
      "2021-08-23, {\"period\": 20, \"highpercent\": 0.7, \"lowpercent\": 0.3, \"printlog\": false} Ending Value 2075193.817\n",
      "2021-08-23, {\"period\": 20, \"highpercent\": 0.7, \"lowpercent\": 0.4, \"printlog\": false} Ending Value 1935962.559\n",
      "2021-08-23, {\"period\": 20, \"highpercent\": 0.8, \"lowpercent\": 0.1, \"printlog\": false} Ending Value 1395745.120\n",
      "2021-08-23, {\"period\": 20, \"highpercent\": 0.8, \"lowpercent\": 0.2, \"printlog\": false} Ending Value 1419603.020\n",
      "2021-08-23, {\"period\": 20, \"highpercent\": 0.8, \"lowpercent\": 0.3, \"printlog\": false} Ending Value 1375601.081\n",
      "2021-08-23, {\"period\": 20, \"highpercent\": 0.8, \"lowpercent\": 0.4, \"printlog\": false} Ending Value 1256036.429\n",
      "2021-08-23, {\"period\": 20, \"highpercent\": 0.9, \"lowpercent\": 0.1, \"printlog\": false} Ending Value 1417786.354\n",
      "2021-08-23, {\"period\": 20, \"highpercent\": 0.9, \"lowpercent\": 0.2, \"printlog\": false} Ending Value 1204916.047\n",
      "2021-08-23, {\"period\": 20, \"highpercent\": 0.9, \"lowpercent\": 0.3, \"printlog\": false} Ending Value 1190118.341\n",
      "2021-08-23, {\"period\": 20, \"highpercent\": 0.9, \"lowpercent\": 0.4, \"printlog\": false} Ending Value 1086796.028\n",
      "2021-08-23, {\"period\": 60, \"highpercent\": 0.6, \"lowpercent\": 0.1, \"printlog\": false} Ending Value 1778982.553\n",
      "2021-08-23, {\"period\": 60, \"highpercent\": 0.6, \"lowpercent\": 0.2, \"printlog\": false} Ending Value 1796554.465\n",
      "2021-08-23, {\"period\": 60, \"highpercent\": 0.6, \"lowpercent\": 0.3, \"printlog\": false} Ending Value 2043021.772\n",
      "2021-08-23, {\"period\": 60, \"highpercent\": 0.6, \"lowpercent\": 0.4, \"printlog\": false} Ending Value 1981899.956\n",
      "2021-08-23, {\"period\": 60, \"highpercent\": 0.7, \"lowpercent\": 0.1, \"printlog\": false} Ending Value 1708746.629\n",
      "2021-08-23, {\"period\": 60, \"highpercent\": 0.7, \"lowpercent\": 0.2, \"printlog\": false} Ending Value 1687648.578\n",
      "2021-08-23, {\"period\": 60, \"highpercent\": 0.7, \"lowpercent\": 0.3, \"printlog\": false} Ending Value 2100237.476\n",
      "2021-08-23, {\"period\": 60, \"highpercent\": 0.7, \"lowpercent\": 0.4, \"printlog\": false} Ending Value 2257230.557\n",
      "2021-08-23, {\"period\": 60, \"highpercent\": 0.8, \"lowpercent\": 0.1, \"printlog\": false} Ending Value 1645839.157\n",
      "2021-08-23, {\"period\": 60, \"highpercent\": 0.8, \"lowpercent\": 0.2, \"printlog\": false} Ending Value 1754697.219\n",
      "2021-08-23, {\"period\": 60, \"highpercent\": 0.8, \"lowpercent\": 0.3, \"printlog\": false} Ending Value 2111032.262\n",
      "2021-08-23, {\"period\": 60, \"highpercent\": 0.8, \"lowpercent\": 0.4, \"printlog\": false} Ending Value 2449757.011\n",
      "2021-08-23, {\"period\": 60, \"highpercent\": 0.9, \"lowpercent\": 0.1, \"printlog\": false} Ending Value 2164424.223\n",
      "2021-08-23, {\"period\": 60, \"highpercent\": 0.9, \"lowpercent\": 0.2, \"printlog\": false} Ending Value 1929178.910\n",
      "2021-08-23, {\"period\": 60, \"highpercent\": 0.9, \"lowpercent\": 0.3, \"printlog\": false} Ending Value 1728062.532\n",
      "2021-08-23, {\"period\": 60, \"highpercent\": 0.9, \"lowpercent\": 0.4, \"printlog\": false} Ending Value 1627823.124\n",
      "2021-08-23, {\"period\": 120, \"highpercent\": 0.6, \"lowpercent\": 0.1, \"printlog\": false} Ending Value 2358745.602\n",
      "2021-08-23, {\"period\": 120, \"highpercent\": 0.6, \"lowpercent\": 0.2, \"printlog\": false} Ending Value 2778222.880\n",
      "2021-08-23, {\"period\": 120, \"highpercent\": 0.6, \"lowpercent\": 0.3, \"printlog\": false} Ending Value 2573751.675\n",
      "2021-08-23, {\"period\": 120, \"highpercent\": 0.6, \"lowpercent\": 0.4, \"printlog\": false} Ending Value 2566159.026\n",
      "2021-08-23, {\"period\": 120, \"highpercent\": 0.7, \"lowpercent\": 0.1, \"printlog\": false} Ending Value 2626196.274\n",
      "2021-08-23, {\"period\": 120, \"highpercent\": 0.7, \"lowpercent\": 0.2, \"printlog\": false} Ending Value 3009202.225\n",
      "2021-08-23, {\"period\": 120, \"highpercent\": 0.7, \"lowpercent\": 0.3, \"printlog\": false} Ending Value 2497089.878\n",
      "2021-08-23, {\"period\": 120, \"highpercent\": 0.7, \"lowpercent\": 0.4, \"printlog\": false} Ending Value 2140014.554\n",
      "2021-08-23, {\"period\": 120, \"highpercent\": 0.8, \"lowpercent\": 0.1, \"printlog\": false} Ending Value 1989509.610\n",
      "2021-08-23, {\"period\": 120, \"highpercent\": 0.8, \"lowpercent\": 0.2, \"printlog\": false} Ending Value 2450221.137\n",
      "2021-08-23, {\"period\": 120, \"highpercent\": 0.8, \"lowpercent\": 0.3, \"printlog\": false} Ending Value 2273633.028\n",
      "2021-08-23, {\"period\": 120, \"highpercent\": 0.8, \"lowpercent\": 0.4, \"printlog\": false} Ending Value 2225774.388\n",
      "2021-08-23, {\"period\": 120, \"highpercent\": 0.9, \"lowpercent\": 0.1, \"printlog\": false} Ending Value 2386835.822\n",
      "2021-08-23, {\"period\": 120, \"highpercent\": 0.9, \"lowpercent\": 0.2, \"printlog\": false} Ending Value 1974858.037\n",
      "2021-08-23, {\"period\": 120, \"highpercent\": 0.9, \"lowpercent\": 0.3, \"printlog\": false} Ending Value 1971271.482\n",
      "2021-08-23, {\"period\": 120, \"highpercent\": 0.9, \"lowpercent\": 0.4, \"printlog\": false} Ending Value 1674157.093\n",
      "2021-08-23, {\"period\": 250, \"highpercent\": 0.6, \"lowpercent\": 0.1, \"printlog\": false} Ending Value 2038540.190\n",
      "2021-08-23, {\"period\": 250, \"highpercent\": 0.6, \"lowpercent\": 0.2, \"printlog\": false} Ending Value 2153087.043\n",
      "2021-08-23, {\"period\": 250, \"highpercent\": 0.6, \"lowpercent\": 0.3, \"printlog\": false} Ending Value 2035879.560\n",
      "2021-08-23, {\"period\": 250, \"highpercent\": 0.6, \"lowpercent\": 0.4, \"printlog\": false} Ending Value 2196589.963\n",
      "2021-08-23, {\"period\": 250, \"highpercent\": 0.7, \"lowpercent\": 0.1, \"printlog\": false} Ending Value 2367328.217\n",
      "2021-08-23, {\"period\": 250, \"highpercent\": 0.7, \"lowpercent\": 0.2, \"printlog\": false} Ending Value 2387150.671\n",
      "2021-08-23, {\"period\": 250, \"highpercent\": 0.7, \"lowpercent\": 0.3, \"printlog\": false} Ending Value 2320127.757\n",
      "2021-08-23, {\"period\": 250, \"highpercent\": 0.7, \"lowpercent\": 0.4, \"printlog\": false} Ending Value 2456535.792\n",
      "2021-08-23, {\"period\": 250, \"highpercent\": 0.8, \"lowpercent\": 0.1, \"printlog\": false} Ending Value 2286457.756\n",
      "2021-08-23, {\"period\": 250, \"highpercent\": 0.8, \"lowpercent\": 0.2, \"printlog\": false} Ending Value 2633067.270\n",
      "2021-08-23, {\"period\": 250, \"highpercent\": 0.8, \"lowpercent\": 0.3, \"printlog\": false} Ending Value 2516931.845\n"
     ]
    }
   ],
   "source": [
    "for duration in durations:\n",
    "    start, end = duration\n",
    "    cerebro = bt.Cerebro()\n",
    "\n",
    "    # cerebro.optstrategy(Strategy1, maperiod=[5, 10, 20, 60], minchgpct=range(0, 4, 1), printlog=False)\n",
    "    # cerebro.optstrategy(Strategy2, buyperiod=[10, 20, 60], sellperiod=[5, 10, 20], minchgpct=range(0, 4, 1),\n",
    "    #                     printlog=False)\n",
    "    cerebro.optstrategy(StrategyNorth, period=[0, 20, 60, 120, 250, 500], highpercent=[0.6, 0.7, 0.8, 0.9],\n",
    "                        lowpercent=[0.1, 0.2, 0.3, 0.4], printlog=False)\n",
    "    cerebro.addanalyzer(bt.analyzers.SharpeRatio, _name='sharpe_ratio')\n",
    "    cerebro.addanalyzer(bt.analyzers.Returns, _name='returns')\n",
    "\n",
    "    # cerebro.addanalyzer(bt.analyzers.PyFolio, _name='PyFolio')\n",
    "    load_stock_data(\n",
    "        cerebro,\n",
    "        # [Stock.HS300ETF, Stock.CYB50ETF],\n",
    "        [Stock.CYB50ETF],\n",
    "        start,\n",
    "        end\n",
    "    )\n",
    "    print('Optimizing %s, %s' % duration)\n",
    "    initial_cash = 1000000.0\n",
    "    cerebro.broker.setcash(initial_cash)\n",
    "    cerebro.addsizer(bt.sizers.PercentSizerInt, percents=95)\n",
    "    cerebro.broker.setcommission(commission=0.00002)\n",
    "    optimized_runs = cerebro.run(maxcpus=1)\n",
    "    final_results_list = []\n",
    "    for run in optimized_runs:\n",
    "        for strategy in run:\n",
    "            sharpe = strategy.analyzers.sharpe_ratio.get_analysis()\n",
    "            returns = strategy.analyzers.returns.get_analysis()\n",
    "            final_results_list.append((json.dumps(strategy.params.__dict__),\n",
    "                                       returns['rtot'],\n",
    "                                       sharpe['sharperatio'],\n",
    "                                       ))\n",
    "    sort_by_sharpe = sorted(final_results_list, key=lambda x: x[1],\n",
    "                            reverse=True)\n",
    "    for line in sort_by_sharpe[:5]:\n",
    "        print('Param: %s, Final Value %f, Sharp Ratio %f' % line)"
   ]
  }
 ],
 "metadata": {
  "kernelspec": {
   "display_name": "Python 3 (ipykernel)",
   "language": "python",
   "name": "python3"
  },
  "language_info": {
   "codemirror_mode": {
    "name": "ipython",
    "version": 3
   },
   "file_extension": ".py",
   "mimetype": "text/x-python",
   "name": "python",
   "nbconvert_exporter": "python",
   "pygments_lexer": "ipython3",
   "version": "3.8.3"
  }
 },
 "nbformat": 4,
 "nbformat_minor": 4
}
